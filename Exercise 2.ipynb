{
 "cells": [
  {
   "cell_type": "code",
   "execution_count": 15,
   "id": "58cb8b69-10ee-476e-8731-c6dbf6a70999",
   "metadata": {},
   "outputs": [
    {
     "name": "stdout",
     "output_type": "stream",
     "text": [
      "<class 'int'>\n",
      "<class 'float'>\n",
      "<class 'str'>\n"
     ]
    }
   ],
   "source": [
    "a=3\n",
    "b=15.8\n",
    "c=\"numbers\"\n",
    "print(type(a))\n",
    "print(type(b))\n",
    "print(type(c))\n"
   ]
  },
  {
   "cell_type": "code",
   "execution_count": 17,
   "id": "53c6282a-a0a4-42d6-9932-1c39d417c9b3",
   "metadata": {},
   "outputs": [
    {
     "name": "stdout",
     "output_type": "stream",
     "text": [
      "True\n",
      "True\n",
      "True\n"
     ]
    }
   ],
   "source": [
    "b=int(b)\n",
    "\n",
    "a=str(a)\n",
    "b=str(b)\n",
    "\n",
    "a=bool(a)\n",
    "b=bool(b)\n",
    "c=bool(c)\n",
    "\n",
    "print(a)\n",
    "print(b)\n",
    "print(c)"
   ]
  },
  {
   "cell_type": "code",
   "execution_count": 45,
   "id": "3eb98e5f-3745-4ab1-96a4-540d266ee0ed",
   "metadata": {},
   "outputs": [
    {
     "name": "stdout",
     "output_type": "stream",
     "text": [
      "3 and 15.8 are numbers\n"
     ]
    }
   ],
   "source": [
    "a=3\n",
    "b=15.8\n",
    "c=\"numbers\"\n",
    "print( a, \"and\", b, \"are\", c)"
   ]
  },
  {
   "cell_type": "code",
   "execution_count": 49,
   "id": "458eec02-cda1-4f8c-885a-bce567c22ed9",
   "metadata": {},
   "outputs": [
    {
     "name": "stdout",
     "output_type": "stream",
     "text": [
      "False\n"
     ]
    }
   ],
   "source": [
    "d=\"games\"\n",
    "e=\"Games\"\n",
    "\n",
    "f=bool(d==e)\n",
    "print(f)"
   ]
  },
  {
   "cell_type": "code",
   "execution_count": 51,
   "id": "44347837-c150-4582-bf0b-3bd5b06e185a",
   "metadata": {},
   "outputs": [
    {
     "ename": "NameError",
     "evalue": "name 'Deer' is not defined",
     "output_type": "error",
     "traceback": [
      "\u001b[1;31m---------------------------------------------------------------------------\u001b[0m",
      "\u001b[1;31mNameError\u001b[0m                                 Traceback (most recent call last)",
      "Cell \u001b[1;32mIn[51], line 1\u001b[0m\n\u001b[1;32m----> 1\u001b[0m First_Name \u001b[38;5;241m=\u001b[39m Deer\n",
      "\u001b[1;31mNameError\u001b[0m: name 'Deer' is not defined"
     ]
    }
   ],
   "source": [
    "First_Name = Deer\n",
    "# Deer is not defined because there are no quotations around it\n",
    "# to suggest it as a string so there is no definition of what Deer is"
   ]
  },
  {
   "cell_type": "code",
   "execution_count": 73,
   "id": "22a9dc77-9416-4407-a8de-ff5bf5632ec4",
   "metadata": {},
   "outputs": [
    {
     "name": "stdout",
     "output_type": "stream",
     "text": [
      "0.447213595499958\n",
      "144\n",
      "7.668267018419836e-53\n"
     ]
    }
   ],
   "source": [
    "x=5\n",
    "y=7\n",
    "z=-2\n",
    "\n",
    "a=(x**0.5)/(y+z)\n",
    "b=(x+y)**2\n",
    "e=2.71828\n",
    "c=e**((-2*x)*(y+x))\n",
    "print(a)\n",
    "print(b)\n",
    "print(c)"
   ]
  },
  {
   "cell_type": "code",
   "execution_count": 79,
   "id": "5641e90a-bba2-452e-9b01-b2c44b29c428",
   "metadata": {},
   "outputs": [
    {
     "name": "stdout",
     "output_type": "stream",
     "text": [
      "24.170242147568278\n"
     ]
    }
   ],
   "source": [
    "h=67/12\n",
    "h_m=h*0.3048\n",
    "m=70\n",
    "BMI=m/(h_m**2)\n",
    "print(BMI)"
   ]
  },
  {
   "cell_type": "code",
   "execution_count": 83,
   "id": "126c7338-677a-43f3-b298-8951a5d61b7f",
   "metadata": {},
   "outputs": [
    {
     "name": "stdout",
     "output_type": "stream",
     "text": [
      "9.539392014169456\n"
     ]
    }
   ],
   "source": [
    "import math\n",
    "\n",
    "a=3\n",
    "h=10\n",
    "b=math.sqrt((h**2)-(a**2))\n",
    "print(b)"
   ]
  },
  {
   "cell_type": "code",
   "execution_count": 89,
   "id": "5b714614-2f06-4c85-9277-617b242031ec",
   "metadata": {},
   "outputs": [
    {
     "name": "stdout",
     "output_type": "stream",
     "text": [
      "0.6666666666666666\n",
      "-1.0\n"
     ]
    }
   ],
   "source": [
    "a=6\n",
    "b=2\n",
    "c=-4\n",
    "x1=(((-b)+math.sqrt((b**2)-(4*a*c)))/(2*a))\n",
    "x2=(((-b)-math.sqrt((b**2)-(4*a*c)))/(2*a))\n",
    "print(x1)\n",
    "print(x2)"
   ]
  },
  {
   "cell_type": "code",
   "execution_count": 91,
   "id": "bb47723f-b7ad-4094-8821-bf04b31f42b5",
   "metadata": {},
   "outputs": [
    {
     "name": "stdout",
     "output_type": "stream",
     "text": [
      "104.0\n",
      "128.74752\n"
     ]
    }
   ],
   "source": [
    "c=40\n",
    "f=(9/5)*c+32\n",
    "print(f)\n",
    "\n",
    "mph=80\n",
    "kmph=1.609344*mph\n",
    "print(kmph)"
   ]
  },
  {
   "cell_type": "code",
   "execution_count": 156,
   "id": "62b4b273-7e75-47d3-a468-c6bff66bf290",
   "metadata": {},
   "outputs": [
    {
     "name": "stdout",
     "output_type": "stream",
     "text": [
      "converged after 100 iterations.\n",
      "Optimal solution: 1.651\n",
      "Value of the function at optimal solution: 0.0\n"
     ]
    }
   ],
   "source": [
    "import random\n",
    "def f(x):\n",
    "    return x**3-2*x**2+3*x-4\n",
    "def df(f, x, h=1e-6):\n",
    "    return (f(x+h)-f(x))/h\n",
    "\n",
    "def newton(guess, f, t=1e-6, max=100):\n",
    "    x=guess\n",
    "    for iteration in range(max):\n",
    "        f_prime_x=df(f, x)\n",
    "        delta_x= - f(x) / f_prime_x\n",
    "        x += delta_x\n",
    "        if abs(delta_x) < t:\n",
    "            print(\"converged after\", max, \"iterations.\")\n",
    "            return x\n",
    "    print(\"did not converge within\", max, \"iterations.\")\n",
    "guess = random.uniform(-10, 10)\n",
    "optimal = newton(guess, f)\n",
    "if optimal is not None:\n",
    "    optimal_rounded = round(optimal, 3)\n",
    "    function_value_rounded = round(f(optimal), 3)\n",
    "    print(\"Optimal solution:\", optimal_rounded)\n",
    "    print(\"Value of the function at optimal solution:\", function_value_rounded)"
   ]
  },
  {
   "cell_type": "code",
   "execution_count": 204,
   "id": "a302e21c-7c82-43bc-baa2-b0e50801b104",
   "metadata": {},
   "outputs": [
    {
     "name": "stdin",
     "output_type": "stream",
     "text": [
      "Guess a number between 1, and 99. 50\n"
     ]
    },
    {
     "name": "stdout",
     "output_type": "stream",
     "text": [
      "Higher\n"
     ]
    },
    {
     "name": "stdin",
     "output_type": "stream",
     "text": [
      "Guess a number between 51, and 99. 75\n"
     ]
    },
    {
     "name": "stdout",
     "output_type": "stream",
     "text": [
      "Lower\n"
     ]
    },
    {
     "name": "stdin",
     "output_type": "stream",
     "text": [
      "Guess a number between 51, and 74. 64\n"
     ]
    },
    {
     "name": "stdout",
     "output_type": "stream",
     "text": [
      "Higher\n"
     ]
    },
    {
     "name": "stdin",
     "output_type": "stream",
     "text": [
      "Guess a number between 65, and 74. 70\n"
     ]
    },
    {
     "name": "stdout",
     "output_type": "stream",
     "text": [
      "Lower\n"
     ]
    },
    {
     "name": "stdin",
     "output_type": "stream",
     "text": [
      "Guess a number between 65, and 69. 67\n"
     ]
    },
    {
     "name": "stdout",
     "output_type": "stream",
     "text": [
      "Lower\n"
     ]
    },
    {
     "name": "stdin",
     "output_type": "stream",
     "text": [
      "Guess a number between 65, and 66. 66\n"
     ]
    },
    {
     "name": "stdout",
     "output_type": "stream",
     "text": [
      "You guessed right!\n",
      "66\n"
     ]
    }
   ],
   "source": [
    "number = random.randint(1, 99)\n",
    "a=1\n",
    "b=99\n",
    "guess=input(f\"Guess a number between {a}, and {b}.\")\n",
    "guess=int(guess)\n",
    "while guess!=number:\n",
    "    if guess < number:\n",
    "        a+=guess\n",
    "        if a>guess:\n",
    "            a=guess+1\n",
    "        print(\"Higher\")\n",
    "        guess=input(f\"Guess a number between {a}, and {b}.\")\n",
    "        guess=int(guess)\n",
    "    if guess > number:\n",
    "        b-=guess\n",
    "        if b<guess:\n",
    "            b=guess-1\n",
    "        print(\"Lower\")\n",
    "        guess=input(f\"Guess a number between {a}, and {b}.\")\n",
    "        guess=int(guess)\n",
    "print(\"You guessed right!\")\n",
    "print(number)"
   ]
  }
 ],
 "metadata": {
  "kernelspec": {
   "display_name": "info2000",
   "language": "python",
   "name": "info2000"
  },
  "language_info": {
   "codemirror_mode": {
    "name": "ipython",
    "version": 3
   },
   "file_extension": ".py",
   "mimetype": "text/x-python",
   "name": "python",
   "nbconvert_exporter": "python",
   "pygments_lexer": "ipython3",
   "version": "3.12.7"
  }
 },
 "nbformat": 4,
 "nbformat_minor": 5
}
